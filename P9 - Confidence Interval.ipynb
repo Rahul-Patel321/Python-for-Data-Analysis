{
 "cells": [
  {
   "cell_type": "markdown",
   "id": "d11a0353",
   "metadata": {},
   "source": [
    "## Confidence Interval"
   ]
  },
  {
   "cell_type": "markdown",
   "id": "39cbe004",
   "metadata": {},
   "source": [
    "Data cleaning and exploratory analysis are often preliminary steps toward the end goal of extracting insight from data through statistical inference or predictive modeling. The remainder of this guide will focus on methods for analyzing data and tools for carrying out analyses in Python.\n",
    "\n",
    "Statistical inference is the process of analyzing sample data to gain insight into the population from which the data was collected and to investigate differences between data samples. In data analysis, we are often interested in the characteristics of some large population, but collecting data on the entire population may be infeasible. For example, leading up to U.S. presidential elections it could be very useful to know the political leanings of every single eligible voter, but surveying every voter is not feasible. Instead, we could poll some subset of the population, such as a thousand registered voters, and use that data to make inferences about the population as a whole."
   ]
  },
  {
   "cell_type": "markdown",
   "id": "76696a48",
   "metadata": {},
   "source": [
    "**Point Estimates**"
   ]
  },
  {
   "cell_type": "markdown",
   "id": "0395f753",
   "metadata": {},
   "source": [
    "Point estimates are estimates of population parameters based on sample data. For instance, if we wanted to know the average age of registered voters in the U.S., we could take a survey of registered voters and then use the average age of the respondents as a point estimate of the average age of the population as a whole. The average of a sample is known as the sample mean.\n",
    "\n",
    "The sample mean is usually not exactly the same as the population mean. This difference can be caused by many factors including poor survey design, biased sampling methods and the randomness inherent to drawing a sample from a population. Let's investigate point estimates by generating a population of random age data and then drawing a sample from it to estimate the mean:"
   ]
  },
  {
   "cell_type": "code",
   "execution_count": 4,
   "id": "4a61d01d",
   "metadata": {},
   "outputs": [],
   "source": [
    "import numpy as np\n",
    "import pandas as pd\n",
    "import matplotlib.pyplot as plt \n",
    "import scipy.stats as stats\n",
    "import random\n",
    "import math\n",
    "%matplotlib inline "
   ]
  },
  {
   "cell_type": "code",
   "execution_count": 10,
   "id": "aca7b692",
   "metadata": {},
   "outputs": [
    {
     "data": {
      "text/plain": [
       "array([58, 55, 53, ..., 27, 28, 28])"
      ]
     },
     "execution_count": 10,
     "metadata": {},
     "output_type": "execute_result"
    }
   ],
   "source": [
    "# Genrating random age data \n",
    "np.random.seed(10)\n",
    "\n",
    "population_age_1 = stats.poisson.rvs(loc = 18,\n",
    "                                    mu = 35,\n",
    "                                    size = 150000)\n",
    "population_age_2 = stats.poisson.rvs(loc = 18,\n",
    "                                    mu = 10,\n",
    "                                    size = 100000)\n",
    "\n",
    "population_age = np.concatenate((population_age_1,\n",
    "                               population_age_2))\n",
    "population_age"
   ]
  },
  {
   "cell_type": "code",
   "execution_count": 11,
   "id": "827fb254",
   "metadata": {},
   "outputs": [
    {
     "data": {
      "text/plain": [
       "43.002372"
      ]
     },
     "execution_count": 11,
     "metadata": {},
     "output_type": "execute_result"
    }
   ],
   "source": [
    "# Calculating the mean of the data obtained \n",
    "population_age.mean()"
   ]
  },
  {
   "cell_type": "code",
   "execution_count": 13,
   "id": "09472f59",
   "metadata": {},
   "outputs": [
    {
     "data": {
      "text/plain": [
       "array([23, 53, 52, 24, 52, 29, 47, 25, 35, 32, 48, 21, 54, 50, 25, 55, 51,\n",
       "       28, 58, 56, 46, 49, 27, 63, 54, 45, 49, 27, 50, 58, 30, 51, 50, 44,\n",
       "       28, 30, 28, 46, 49, 28, 51, 61, 55, 49, 26, 27, 52, 53, 45, 47, 26,\n",
       "       58, 50, 62, 60, 49, 29, 26, 60, 53, 25, 29, 54, 30, 56, 28, 34, 60,\n",
       "       46, 24, 31, 53, 60, 59, 64, 57, 52, 49, 29, 27, 44, 68, 27, 55, 66,\n",
       "       58, 51, 39, 57, 48, 47, 30, 26, 51, 53, 55, 31, 25, 25, 41, 52, 27,\n",
       "       57, 59, 31, 29, 47, 51, 53, 28, 62, 28, 29, 52, 58, 54, 50, 31, 46,\n",
       "       31, 54, 28, 52, 41, 46, 47, 30, 29, 49, 45, 23, 50, 26, 50, 48, 26,\n",
       "       34, 49, 26, 31, 27, 31, 26, 61, 26, 29, 28, 25, 46, 33, 48, 56, 51,\n",
       "       42, 30, 30, 30, 31, 39, 66, 56, 42, 24, 47, 33, 30, 58, 63, 29, 60,\n",
       "       25, 46, 41, 52, 47, 49, 23, 27, 53, 48, 27, 50, 58, 27, 30, 51, 56,\n",
       "       54, 43, 28, 60, 44, 25, 27, 21, 53, 32, 63, 50, 52, 53, 29, 55, 49,\n",
       "       29, 56, 47, 28, 59, 33, 31, 61, 32, 65, 27, 27, 26, 26, 39, 60, 26,\n",
       "       51, 25, 51, 28, 58, 46, 28, 28, 56, 28, 60, 53, 56, 44, 63, 25, 51,\n",
       "       44, 47, 56, 43, 57, 23, 29, 53, 28, 54, 28, 26, 57, 54, 46, 54, 26,\n",
       "       53, 28, 58, 31, 50, 54, 25, 49, 29, 27, 60, 28, 50, 30, 52, 26, 62,\n",
       "       33, 28, 57, 52, 27, 57, 46, 46, 31, 56, 27, 51, 24, 51, 46, 23, 24,\n",
       "       30, 26, 54, 27, 27, 25, 55, 34, 30, 50, 55, 59, 58, 34, 34, 29, 26,\n",
       "       45, 50, 49, 56, 29, 54, 52, 52, 23, 36, 45, 29, 59, 47, 27, 47, 48,\n",
       "       46, 65, 55, 31, 30, 53, 29, 24, 27, 30, 47, 58, 26, 30, 45, 46, 57,\n",
       "       57, 28, 47, 57, 60, 35, 32, 26, 25, 54, 22, 47, 62, 25, 43, 59, 24,\n",
       "       42, 52, 47, 57, 46, 51, 51, 62, 45, 28, 54, 61, 49, 31, 57, 27, 30,\n",
       "       50, 50, 52, 28, 49, 50, 49, 24, 45, 31, 53, 52, 26, 26, 58, 32, 33,\n",
       "       55, 61, 54, 28, 31, 51, 28, 52, 37, 49, 57, 49, 50, 32, 50, 58, 51,\n",
       "       57, 45, 52, 57, 31, 29, 60, 54, 56, 63, 30, 48, 63, 56, 49, 45, 47,\n",
       "       53, 30, 27, 24, 23, 25, 55, 49, 62, 54, 28, 25, 28, 32, 58, 27, 55,\n",
       "       43, 47, 64, 27, 25, 59, 50, 27, 29, 51, 54, 54, 23, 26, 37, 22, 26,\n",
       "       34, 41, 29, 33, 60, 29, 30, 28, 57, 59, 61, 27, 47, 60, 47, 62, 45,\n",
       "       42, 47, 28, 24, 48, 61, 41, 27, 31, 48, 63, 37, 31, 60, 27, 60, 28,\n",
       "       23, 64, 26, 48, 54, 26, 30])"
      ]
     },
     "execution_count": 13,
     "metadata": {},
     "output_type": "execute_result"
    }
   ],
   "source": [
    "np.random.seed(6)\n",
    "\n",
    "sample_age = np.random.choice(a = population_age,\n",
    "                             size = 500)\n",
    "sample_age"
   ]
  },
  {
   "cell_type": "code",
   "execution_count": 14,
   "id": "2598401f",
   "metadata": {},
   "outputs": [
    {
     "data": {
      "text/plain": [
       "42.388"
      ]
     },
     "execution_count": 14,
     "metadata": {},
     "output_type": "execute_result"
    }
   ],
   "source": [
    "# Calculating the mean of sample_data \n",
    "sample_age.mean()"
   ]
  },
  {
   "cell_type": "code",
   "execution_count": 16,
   "id": "fbf3785c",
   "metadata": {},
   "outputs": [
    {
     "data": {
      "text/plain": [
       "0.614372000000003"
      ]
     },
     "execution_count": 16,
     "metadata": {},
     "output_type": "execute_result"
    }
   ],
   "source": [
    "# Calulate the difference between population_age mean and sample_age mean\n",
    "\n",
    "population_age.mean() - sample_age.mean()"
   ]
  },
  {
   "cell_type": "markdown",
   "id": "a983ca06",
   "metadata": {},
   "source": [
    "* Our point estimate based on a sample of 500 individuals underestimates the true population mean by 0.6 years, but it is close. \n",
    "* This illustrates an important point: we can get a fairly accurate estimate of a large population by sampling a relatively small subset of individuals."
   ]
  },
  {
   "cell_type": "markdown",
   "id": "bd50d3c4",
   "metadata": {},
   "source": [
    "Another point estimate that may be of interest is the proportion of the population that belongs to some category or subgroup. For example, we might like to know the race of each voter we poll, to get a sense of the overall demographics of the voter base. we can make a point estimate of this sort of proportion by taking a sample and then checking the ratio in the sample:"
   ]
  },
  {
   "cell_type": "code",
   "execution_count": 23,
   "id": "bdffe551",
   "metadata": {},
   "outputs": [
    {
     "name": "stdout",
     "output_type": "stream",
     "text": [
      "other proportion estimate : \n",
      "0.099\n",
      "hispanic proportion estimate : \n",
      "0.192\n",
      "white proportion estimate : \n",
      "0.379\n",
      "black proportion estimate : \n",
      "0.231\n",
      "asian proportion estimate : \n",
      "0.099\n"
     ]
    }
   ],
   "source": [
    "random.seed(10)\n",
    "\n",
    "population_races = ([\"white\"]*100000) + ([\"black\"]*50000) +\\\n",
    "                   ([\"hispanic\"]*50000) + ([\"asian\"]*25000) +\\\n",
    "                   ([\"other\"]*25000)\n",
    "\n",
    "demo_sample = random.sample(population_races,1000)\n",
    "\n",
    "for race in set(demo_sample):\n",
    "    print(race + \" proportion estimate : \")\n",
    "    print(demo_sample.count(race)/1000)"
   ]
  },
  {
   "cell_type": "markdown",
   "id": "f26eefd3",
   "metadata": {},
   "source": [
    "* Notice that the proportion estimates are close to the true underlying population proportions."
   ]
  },
  {
   "cell_type": "markdown",
   "id": "45c1da6c",
   "metadata": {},
   "source": [
    "**Sampling Distributions and The Central Limit Theorem**"
   ]
  },
  {
   "cell_type": "markdown",
   "id": "cd0e86d0",
   "metadata": {},
   "source": [
    "Many statistical procedures assume that data follows a normal distribution, because the normal distribution has nice properties like symmetricity and having the majority of the data clustered within a few standard deviations of the mean. Unfortunately, real world data is often not normally distributed and the distribution of a sample tends to mirror the distribution of the population. This means a sample taken from a population with a skewed distribution will also tend to be skewed. Let's investigate by plotting the data and sample we created earlier and by checking the skew:"
   ]
  },
  {
   "cell_type": "code",
   "execution_count": 40,
   "id": "7d3b9372",
   "metadata": {},
   "outputs": [
    {
     "name": "stdout",
     "output_type": "stream",
     "text": [
      "-0.12008483603917186\n"
     ]
    },
    {
     "data": {
      "image/png": "[encoded data removed]",
      "text/plain": [
       "<Figure size 648x648 with 1 Axes>"
      ]
     },
     "metadata": {
      "needs_background": "light"
     },
     "output_type": "display_data"
    }
   ],
   "source": [
    "# Plotting the population_age data uisng the histogram\n",
    "pd.DataFrame(population_age).hist(bins = 58,\n",
    "                                 range = (20.5,68.5),\n",
    "                                 figsize = (9,9))\n",
    "\n",
    "print(stats.skew(population_age))"
   ]
  },
  {
   "cell_type": "markdown",
   "id": "699feb17",
   "metadata": {},
   "source": [
    "* The distribution has low skewness, but the plot reveals the data is clearly not normal: instead of one symmetric bell curve, it has as bimodal distribution with two high density peaks. The sample we drew from this population should have roughly the same shape and skew:"
   ]
  },
  {
   "cell_type": "code",
   "execution_count": 41,
   "id": "fd0b9514",
   "metadata": {},
   "outputs": [
    {
     "name": "stdout",
     "output_type": "stream",
     "text": [
      "-0.056225282585406065\n"
     ]
    },
    {
     "data": {
      "image/png": "[encoded data removed]",
      "text/plain": [
       "<Figure size 648x648 with 1 Axes>"
      ]
     },
     "metadata": {
      "needs_background": "light"
     },
     "output_type": "display_data"
    }
   ],
   "source": [
    "# Plotting sample_data using the histogram\n",
    "\n",
    "pd.DataFrame(sample_age).hist(bins = 58,\n",
    "                             range = (20.5,68.5),\n",
    "                             figsize = (9,9))\n",
    "\n",
    "print(stats.skew(sample_age))"
   ]
  },
  {
   "cell_type": "markdown",
   "id": "69337ff1",
   "metadata": {},
   "source": [
    "* The sample has roughly the same shape as the underlying population. This suggests that we can't apply techniques that assume a normal distribution to this data set, since it is not normal. In reality, we can, thanks the central limit theorem.\n",
    "\n",
    "The central limit theorem is one of the most important results of probability theory and serves as the foundation of many methods of statistical analysis. At a high level, the theorem states the distribution of many sample means, known as a sampling distribution, will be normally distributed. This rule holds even if the underlying distribution itself is not normally distributed. As a result we can treat the sample mean as if it were drawn normal distribution.\n",
    "\n",
    "To illustrate, let's create a sampling distribution by taking 200 samples from our population and then making 200 point estimates of the mean:"
   ]
  },
  {
   "cell_type": "code",
   "execution_count": 42,
   "id": "ec8d12b4",
   "metadata": {},
   "outputs": [],
   "source": [
    "np.random.seed(12)\n",
    "\n",
    "point_estimates = [] # creating a list to hold the value of the point eastimate of the 200 samples\n",
    "\n",
    "for i in range(200):\n",
    "    sample = np.random.choice(a = population_age,  # generating random sample from the population_age\n",
    "                         size = 500)\n",
    "    point_estimates.append(sample.mean())  # putting the sample mean into the point_estimates list "
   ]
  },
  {
   "cell_type": "code",
   "execution_count": 43,
   "id": "d41ef0c1",
   "metadata": {},
   "outputs": [
    {
     "data": {
      "text/plain": [
       "[43.416,\n",
       " 43.1,\n",
       " 43.156,\n",
       " 43.194,\n",
       " 44.164,\n",
       " 42.856,\n",
       " 42.832,\n",
       " 43.05,\n",
       " 42.59,\n",
       " 42.732,\n",
       " 43.362,\n",
       " 43.756,\n",
       " 42.826,\n",
       " 43.09,\n",
       " 42.362,\n",
       " 42.79,\n",
       " 42.666,\n",
       " 42.026,\n",
       " 43.456,\n",
       " 43.264,\n",
       " 43.578,\n",
       " 43.212,\n",
       " 43.484,\n",
       " 43.142,\n",
       " 43.084,\n",
       " 42.018,\n",
       " 43.12,\n",
       " 43.192,\n",
       " 43.244,\n",
       " 43.682,\n",
       " 42.118,\n",
       " 43.792,\n",
       " 42.564,\n",
       " 42.674,\n",
       " 42.522,\n",
       " 43.578,\n",
       " 43.58,\n",
       " 42.56,\n",
       " 42.774,\n",
       " 43.048,\n",
       " 42.408,\n",
       " 42.62,\n",
       " 43.14,\n",
       " 42.68,\n",
       " 43.918,\n",
       " 44.524,\n",
       " 42.636,\n",
       " 42.926,\n",
       " 43.332,\n",
       " 43.168,\n",
       " 42.49,\n",
       " 43.486,\n",
       " 42.77,\n",
       " 43.41,\n",
       " 42.704,\n",
       " 43.928,\n",
       " 43.282,\n",
       " 42.532,\n",
       " 42.586,\n",
       " 42.374,\n",
       " 42.878,\n",
       " 43.362,\n",
       " 42.78,\n",
       " 42.282,\n",
       " 42.972,\n",
       " 43.918,\n",
       " 43.56,\n",
       " 43.88,\n",
       " 43.226,\n",
       " 42.972,\n",
       " 42.484,\n",
       " 43.242,\n",
       " 43.246,\n",
       " 43.102,\n",
       " 42.5,\n",
       " 43.954,\n",
       " 42.296,\n",
       " 43.278,\n",
       " 43.182,\n",
       " 43.28,\n",
       " 42.57,\n",
       " 43.094,\n",
       " 42.52,\n",
       " 42.2,\n",
       " 44.246,\n",
       " 42.566,\n",
       " 42.376,\n",
       " 43.47,\n",
       " 43.126,\n",
       " 43.328,\n",
       " 42.868,\n",
       " 41.69,\n",
       " 42.81,\n",
       " 42.992,\n",
       " 43.564,\n",
       " 43.314,\n",
       " 43.332,\n",
       " 42.872,\n",
       " 41.466,\n",
       " 43.488,\n",
       " 42.732,\n",
       " 42.246,\n",
       " 42.96,\n",
       " 41.448,\n",
       " 43.188,\n",
       " 43.344,\n",
       " 42.582,\n",
       " 42.992,\n",
       " 42.914,\n",
       " 42.624,\n",
       " 43.752,\n",
       " 43.224,\n",
       " 43.086,\n",
       " 43.438,\n",
       " 42.652,\n",
       " 43.78,\n",
       " 43.018,\n",
       " 43.64,\n",
       " 44.5,\n",
       " 43.792,\n",
       " 43.15,\n",
       " 43.154,\n",
       " 43.72,\n",
       " 43.466,\n",
       " 42.658,\n",
       " 42.808,\n",
       " 42.94,\n",
       " 43.064,\n",
       " 42.874,\n",
       " 42.748,\n",
       " 42.052,\n",
       " 42.432,\n",
       " 42.422,\n",
       " 43.182,\n",
       " 42.786,\n",
       " 41.968,\n",
       " 42.108,\n",
       " 43.23,\n",
       " 42.706,\n",
       " 44.354,\n",
       " 43.768,\n",
       " 43.702,\n",
       " 43.93,\n",
       " 42.53,\n",
       " 43.004,\n",
       " 42.176,\n",
       " 42.894,\n",
       " 43.492,\n",
       " 42.276,\n",
       " 42.622,\n",
       " 42.782,\n",
       " 43.958,\n",
       " 43.536,\n",
       " 42.786,\n",
       " 43.468,\n",
       " 43.86,\n",
       " 42.652,\n",
       " 43.472,\n",
       " 43.218,\n",
       " 43.038,\n",
       " 42.924,\n",
       " 42.274,\n",
       " 42.23,\n",
       " 42.498,\n",
       " 43.238,\n",
       " 42.92,\n",
       " 43.922,\n",
       " 43.494,\n",
       " 42.278,\n",
       " 44.74,\n",
       " 43.164,\n",
       " 42.78,\n",
       " 42.952,\n",
       " 42.408,\n",
       " 42.626,\n",
       " 43.268,\n",
       " 43.4,\n",
       " 43.416,\n",
       " 44.13,\n",
       " 43.06,\n",
       " 43.09,\n",
       " 43.508,\n",
       " 43.548,\n",
       " 43.222,\n",
       " 41.854,\n",
       " 42.918,\n",
       " 42.64,\n",
       " 42.922,\n",
       " 43.46,\n",
       " 43.506,\n",
       " 42.944,\n",
       " 43.044,\n",
       " 43.596,\n",
       " 42.346,\n",
       " 43.39,\n",
       " 43.358,\n",
       " 41.508,\n",
       " 42.438,\n",
       " 43.09,\n",
       " 42.446]"
      ]
     },
     "execution_count": 43,
     "metadata": {},
     "output_type": "execute_result"
    }
   ],
   "source": [
    "# Looking at the values of the list point_estimates \n",
    "point_estimates"
   ]
  },
  {
   "cell_type": "code",
   "execution_count": 45,
   "id": "06f7ad57",
   "metadata": {},
   "outputs": [
    {
     "data": {
      "text/html": [
       "<div>\n",
       "<style scoped>\n",
       "    .dataframe tbody tr th:only-of-type {\n",
       "        vertical-align: middle;\n",
       "    }\n",
       "\n",
       "    .dataframe tbody tr th {\n",
       "        vertical-align: top;\n",
       "    }\n",
       "\n",
       "    .dataframe thead th {\n",
       "        text-align: right;\n",
       "    }\n",
       "</style>\n",
       "<table border=\"1\" class=\"dataframe\">\n",
       "  <thead>\n",
       "    <tr style=\"text-align: right;\">\n",
       "      <th></th>\n",
       "      <th>0</th>\n",
       "    </tr>\n",
       "  </thead>\n",
       "  <tbody>\n",
       "    <tr>\n",
       "      <th>0</th>\n",
       "      <td>43.416</td>\n",
       "    </tr>\n",
       "    <tr>\n",
       "      <th>1</th>\n",
       "      <td>43.100</td>\n",
       "    </tr>\n",
       "    <tr>\n",
       "      <th>2</th>\n",
       "      <td>43.156</td>\n",
       "    </tr>\n",
       "    <tr>\n",
       "      <th>3</th>\n",
       "      <td>43.194</td>\n",
       "    </tr>\n",
       "    <tr>\n",
       "      <th>4</th>\n",
       "      <td>44.164</td>\n",
       "    </tr>\n",
       "    <tr>\n",
       "      <th>...</th>\n",
       "      <td>...</td>\n",
       "    </tr>\n",
       "    <tr>\n",
       "      <th>195</th>\n",
       "      <td>43.358</td>\n",
       "    </tr>\n",
       "    <tr>\n",
       "      <th>196</th>\n",
       "      <td>41.508</td>\n",
       "    </tr>\n",
       "    <tr>\n",
       "      <th>197</th>\n",
       "      <td>42.438</td>\n",
       "    </tr>\n",
       "    <tr>\n",
       "      <th>198</th>\n",
       "      <td>43.090</td>\n",
       "    </tr>\n",
       "    <tr>\n",
       "      <th>199</th>\n",
       "      <td>42.446</td>\n",
       "    </tr>\n",
       "  </tbody>\n",
       "</table>\n",
       "<p>200 rows × 1 columns</p>\n",
       "</div>"
      ],
      "text/plain": [
       "          0\n",
       "0    43.416\n",
       "1    43.100\n",
       "2    43.156\n",
       "3    43.194\n",
       "4    44.164\n",
       "..      ...\n",
       "195  43.358\n",
       "196  41.508\n",
       "197  42.438\n",
       "198  43.090\n",
       "199  42.446\n",
       "\n",
       "[200 rows x 1 columns]"
      ]
     },
     "execution_count": 45,
     "metadata": {},
     "output_type": "execute_result"
    }
   ],
   "source": [
    "# Convert the above result into the dataframe \n",
    "\n",
    "point_estimates = pd.DataFrame(point_estimates)\n",
    "point_estimates"
   ]
  },
  {
   "cell_type": "code",
   "execution_count": 47,
   "id": "07bb2353",
   "metadata": {},
   "outputs": [
    {
     "data": {
      "text/plain": [
       "<AxesSubplot:ylabel='Density'>"
      ]
     },
     "execution_count": 47,
     "metadata": {},
     "output_type": "execute_result"
    },
    {
     "data": {
      "image/png": "[encoded data removed]",
      "text/plain": [
       "<Figure size 648x648 with 1 Axes>"
      ]
     },
     "metadata": {
      "needs_background": "light"
     },
     "output_type": "display_data"
    }
   ],
   "source": [
    "# Plot the above result \n",
    "\n",
    "point_estimates.plot(kind = 'density',\n",
    "                    figsize = (9,9))"
   ]
  },
  {
   "cell_type": "markdown",
   "id": "d45bec2c",
   "metadata": {},
   "source": [
    "* The sampling distribution appears to be roughly normal, despite the bimodal population distribution that the samples were drawn from. \n",
    "* In addition, the mean of the sampling distribution approaches the true population mean:"
   ]
  },
  {
   "cell_type": "code",
   "execution_count": 52,
   "id": "6815e00f",
   "metadata": {},
   "outputs": [
    {
     "data": {
      "text/plain": [
       "0   -0.029138\n",
       "dtype: float64"
      ]
     },
     "execution_count": 52,
     "metadata": {},
     "output_type": "execute_result"
    }
   ],
   "source": [
    "# Calculate the difference between population_age mean and point_estimates age mean\n",
    "\n",
    "population_age.mean() - point_estimates.mean()"
   ]
  },
  {
   "cell_type": "markdown",
   "id": "f58aab21",
   "metadata": {},
   "source": [
    "* The more samples we take, the better our estimate of the population parameter is likely to be."
   ]
  },
  {
   "cell_type": "markdown",
   "id": "72660699",
   "metadata": {},
   "source": [
    "**Confidence Intervals**"
   ]
  },
  {
   "cell_type": "markdown",
   "id": "05cc650a",
   "metadata": {},
   "source": [
    "A point estimate can give you a rough idea of a population parameter like the mean, but estimates are prone to error and taking multiple samples to get improved estimates may not be feasible. A confidence interval is a range of values above and below a point estimate that captures the true population parameter at some predetermined confidence level. For example, if you want to have a 95% chance of capturing the true population parameter with a point estimate and a corresponding confidence interval, you'd set your confidence level to 95%. Higher confidence levels result in a wider confidence intervals.\n",
    "\n",
    "\n",
    "Calculate a confidence interval by taking a point estimate and then adding and subtracting a margin of error to create a range. Margin of error is based on your desired confidence level, the spread of the data and the size of your sample. The way you calculate the margin of error depends on whether you know the standard deviation of the population or not.\n",
    "\n",
    "\n",
    "If you know the standard deviation of the population, the margin of error is equal to:\n",
    "\n",
    "z * (sigma/sqrt(n))\n",
    "\n",
    "\n",
    "Where σ (sigma) is the population standard deviation, n is sample size, and z is a number known as the z-critical value. The z-critical value is the number of standard deviations you'd have to go from the mean of the normal distribution to capture the proportion of the data associated with the desired confidence level. For instance, we know that roughly 95% of the data in a normal distribution lies within 2 standard deviations of the mean, so we could use 2 as the z-critical value for a 95% confidence interval (although it is more exact to get z-critical values with stats.norm.ppf().).\n",
    "\n",
    "\n",
    "Let's calculate a 95% confidence for our mean point estimate:"
   ]
  },
  {
   "cell_type": "code",
   "execution_count": 60,
   "id": "28c59fdc",
   "metadata": {},
   "outputs": [
    {
     "name": "stdout",
     "output_type": "stream",
     "text": [
      "z critical value: \n",
      "1.959963984540054\n",
      "cofidence interval : \n",
      "(41.70306406882683, 43.34293593117317)\n"
     ]
    }
   ],
   "source": [
    "np.random.seed(10)\n",
    "\n",
    "sample_size = 1000\n",
    "sample = np.random.choice(a = population_age,\n",
    "                         size = sample_size)\n",
    "sample_mean = sample.mean()\n",
    "\n",
    "# get the z-critical value \n",
    "\n",
    "z_critical = stats.norm.ppf(q = 0.975)\n",
    "\n",
    "print('z critical value: ')\n",
    "print(z_critical)\n",
    "\n",
    "\n",
    "#  calculate the populationn standard deviation\n",
    "\n",
    "pop_std = population_age.std()\n",
    "\n",
    "margin_of_error = z_critical * (pop_std/math.sqrt(sample_size))\n",
    "\n",
    "#  calculate the confidence interval\n",
    "\n",
    "confidence_interval = (sample_mean - margin_of_error,\n",
    "                      sample_mean + margin_of_error)\n",
    "\n",
    "print('cofidence interval : ')\n",
    "print(confidence_interval)"
   ]
  },
  {
   "cell_type": "markdown",
   "id": "1cb4a611",
   "metadata": {},
   "source": [
    "* Note: We use stats.norm.ppf(q = 0.975) to get the desired z-critical value instead of q = 0.95 because the distribution has two tails.\n",
    "\n",
    "* Notice that the confidence interval we calculated captures the true population mean of 43.0023."
   ]
  },
  {
   "cell_type": "markdown",
   "id": "5719a3bd",
   "metadata": {},
   "source": [
    "Let's create several confidence intervals and plot them to get a better sense of what it means to \"capture\" the true mean:"
   ]
  },
  {
   "cell_type": "code",
   "execution_count": 67,
   "id": "6742c913",
   "metadata": {},
   "outputs": [
    {
     "name": "stdout",
     "output_type": "stream",
     "text": [
      "z_critical : \n",
      "1.959963984540054\n",
      "confidence interval : \n",
      "(41.70306406882683, 43.34293593117317)\n",
      "z_critical : \n",
      "1.959963984540054\n",
      "confidence interval : \n",
      "(42.23806406882683, 43.87793593117317)\n",
      "z_critical : \n",
      "1.959963984540054\n",
      "confidence interval : \n",
      "(41.84506406882683, 43.48493593117317)\n",
      "z_critical : \n",
      "1.959963984540054\n",
      "confidence interval : \n",
      "(41.69606406882683, 43.33593593117317)\n",
      "z_critical : \n",
      "1.959963984540054\n",
      "confidence interval : \n",
      "(42.67506406882683, 44.31493593117317)\n",
      "z_critical : \n",
      "1.959963984540054\n",
      "confidence interval : \n",
      "(42.26606406882683, 43.90593593117317)\n",
      "z_critical : \n",
      "1.959963984540054\n",
      "confidence interval : \n",
      "(42.40006406882683, 44.03993593117317)\n",
      "z_critical : \n",
      "1.959963984540054\n",
      "confidence interval : \n",
      "(42.16906406882683, 43.80893593117317)\n",
      "z_critical : \n",
      "1.959963984540054\n",
      "confidence interval : \n",
      "(41.90106406882683, 43.540935931173166)\n",
      "z_critical : \n",
      "1.959963984540054\n",
      "confidence interval : \n",
      "(41.38606406882683, 43.02593593117317)\n",
      "z_critical : \n",
      "1.959963984540054\n",
      "confidence interval : \n",
      "(42.86606406882683, 44.50593593117317)\n",
      "z_critical : \n",
      "1.959963984540054\n",
      "confidence interval : \n",
      "(41.84106406882683, 43.48093593117317)\n",
      "z_critical : \n",
      "1.959963984540054\n",
      "confidence interval : \n",
      "(42.35006406882683, 43.98993593117317)\n",
      "z_critical : \n",
      "1.959963984540054\n",
      "confidence interval : \n",
      "(41.55506406882683, 43.19493593117317)\n",
      "z_critical : \n",
      "1.959963984540054\n",
      "confidence interval : \n",
      "(41.93506406882683, 43.57493593117317)\n",
      "z_critical : \n",
      "1.959963984540054\n",
      "confidence interval : \n",
      "(42.27206406882683, 43.91193593117317)\n",
      "z_critical : \n",
      "1.959963984540054\n",
      "confidence interval : \n",
      "(41.86606406882683, 43.50593593117317)\n",
      "z_critical : \n",
      "1.959963984540054\n",
      "confidence interval : \n",
      "(41.58206406882683, 43.22193593117317)\n",
      "z_critical : \n",
      "1.959963984540054\n",
      "confidence interval : \n",
      "(42.20806406882683, 43.84793593117317)\n",
      "z_critical : \n",
      "1.959963984540054\n",
      "confidence interval : \n",
      "(41.70506406882683, 43.34493593117317)\n",
      "z_critical : \n",
      "1.959963984540054\n",
      "confidence interval : \n",
      "(42.65906406882683, 44.29893593117317)\n",
      "z_critical : \n",
      "1.959963984540054\n",
      "confidence interval : \n",
      "(42.15906406882683, 43.79893593117317)\n",
      "z_critical : \n",
      "1.959963984540054\n",
      "confidence interval : \n",
      "(42.12006406882683, 43.75993593117317)\n",
      "z_critical : \n",
      "1.959963984540054\n",
      "confidence interval : \n",
      "(42.30906406882683, 43.94893593117317)\n",
      "z_critical : \n",
      "1.959963984540054\n",
      "confidence interval : \n",
      "(42.41306406882683, 44.05293593117317)\n"
     ]
    }
   ],
   "source": [
    "np.random.seed(10)\n",
    "\n",
    "sample_size = 1000\n",
    "\n",
    "sample_means = []\n",
    "confidence_intervals = []\n",
    "\n",
    "for i in range(25):\n",
    "    \n",
    "    sample = np.random.choice(a = population_age,\n",
    "                             size = sample_size)\n",
    "    sample_mean = sample.mean()\n",
    "    sample_means.append(sample_mean)\n",
    "\n",
    "    # get the critical value \n",
    "    z_critcal = stats.norm.ppf(q = 0.975)\n",
    "\n",
    "    print('z_critical : ')\n",
    "    print(z_critical)\n",
    "\n",
    "    pop_std = population_age.std()\n",
    "    \n",
    "    stats.norm.ppf(q = 0.025)\n",
    "\n",
    "    # calculate the margin of the error \n",
    "\n",
    "    margin_of_error = z_critical * (pop_std/math.sqrt(sample_size))\n",
    "\n",
    "    # calculate the confidence interval\n",
    "\n",
    "    confidence_interval = (sample_mean -margin_of_error ,\n",
    "                          sample_mean + margin_of_error)\n",
    "    \n",
    "    confidence_intervals.append(confidence_interval)\n",
    "    print('confidence interval : ')\n",
    "    print(confidence_interval)"
   ]
  },
  {
   "cell_type": "code",
   "execution_count": 69,
   "id": "56ad9e31",
   "metadata": {},
   "outputs": [
    {
     "data": {
      "image/png": "[encoded data removed]",
      "text/plain": [
       "<Figure size 648x648 with 1 Axes>"
      ]
     },
     "metadata": {
      "needs_background": "light"
     },
     "output_type": "display_data"
    }
   ],
   "source": [
    "# plot the aboove results \n",
    "\n",
    "plt.figure(figsize=(9,9))\n",
    "\n",
    "plt.errorbar(x=np.arange(0.1, 25, 1), \n",
    "             y=sample_means, \n",
    "             yerr=[(top-bot)/2 for top,bot in confidence_intervals],\n",
    "             fmt='o')\n",
    "\n",
    "plt.hlines(xmin=0, xmax=25,\n",
    "           y=43.0023, \n",
    "           linewidth=2.0,\n",
    "           color=\"red\");"
   ]
  },
  {
   "cell_type": "markdown",
   "id": "0dbeaa33",
   "metadata": {},
   "source": [
    "Notice that in the plot above, all but one of the 95% confidence intervals overlap the red line marking the true mean. This is to be expected: since a 95% confidence interval captures the true mean 95% of the time, we'd expect our interval to miss the true mean 5% of the time.\n",
    "\n",
    "If we don't know the standard deviation of the population, we have to use the standard deviation of our sample as a stand in when creating confidence intervals. Since the sample standard deviation may not match the population parameter the interval will have more error when you don't know the population standard deviation. To account for this error, we use what's known as a t-critical value instead of the z-critical value. \n",
    "\n",
    "The t-critical value is drawn from what's known as a t-distribution--a distribution that closely resembles the normal distribution but that gets wider and wider as the sample size falls. The t-distribution is available in scipy.stats with the nickname \"t\" so we can get t-critical values with stats.t.ppf()."
   ]
  },
  {
   "cell_type": "markdown",
   "id": "4ea70375",
   "metadata": {},
   "source": [
    "Let's take a new, smaller sample and then create a confidence interval without the population standard deviation, using the t-distribution:"
   ]
  },
  {
   "cell_type": "code",
   "execution_count": 75,
   "id": "478fbfba",
   "metadata": {},
   "outputs": [
    {
     "name": "stdout",
     "output_type": "stream",
     "text": [
      "t critical value : \n",
      "2.0638985616280205\n",
      "margin of the error : \n",
      "5.122887262989392\n",
      "confidence interval : \n",
      "(37.75711273701061, 48.0028872629894)\n"
     ]
    }
   ],
   "source": [
    "np.random.seed(10)\n",
    "\n",
    "sample_size = 25\n",
    "\n",
    "sample = np.random.choice(a = population_age,\n",
    "                         size = sample_size)\n",
    "sample_mean = sample.mean()\n",
    "\n",
    "# get the t critical value \n",
    "\n",
    "t_critical = stats.t.ppf(q = 0.975,\n",
    "                        df = 24)\n",
    "\n",
    "print('t critical value : ')\n",
    "print(t_critical)\n",
    "\n",
    "\n",
    "sample_stdev = sample.std()\n",
    "\n",
    "# calculate the margin of the error \n",
    "\n",
    "margin_of_error = t_critical * (sample_stdev/math.sqrt(sample_size))\n",
    "\n",
    "print('margin of the error : ')\n",
    "print(margin_of_error)\n",
    "\n",
    "# calculate the confidence interval \n",
    "\n",
    "confidence_interval = (sample_mean - margin_of_error,\n",
    "                      sample_mean + margin_of_error)\n",
    "\n",
    "print('confidence interval : ')\n",
    "print(confidence_interval)"
   ]
  },
  {
   "cell_type": "markdown",
   "id": "57eec9be",
   "metadata": {},
   "source": [
    "* Note: when using the t-distribution, we have to supply the degrees of freedom (df). For this type of test, the degrees of freedom is equal to the sample size minus 1. If we have a large sample size, the t-distribution approaches the normal distribution."
   ]
  },
  {
   "cell_type": "markdown",
   "id": "54e52e5e",
   "metadata": {},
   "source": [
    "* Notice that the t-critical value is larger than the z-critical value we used for 95% confidence interval. This allows the confidence interval to cast a larger net to make up for the variability caused by using the sample standard deviation in place of the population standard deviation. The end result is a much wider confidence interval (an interval with a larger margin of error.).\n",
    "\n",
    "* If we have a large sample, the t-critical value will approach the z-critical value so there is little difference between using the normal distribution vs. the t-distribution:"
   ]
  },
  {
   "cell_type": "markdown",
   "id": "01fb7b99",
   "metadata": {},
   "source": [
    "Instead of calculating a confidence interval for a mean point estimate by hand, we can calculate it using the Python function stats.t.interval():"
   ]
  },
  {
   "cell_type": "code",
   "execution_count": 77,
   "id": "8f0a45fd",
   "metadata": {},
   "outputs": [
    {
     "data": {
      "text/plain": [
       "(37.75711273701061, 48.0028872629894)"
      ]
     },
     "execution_count": 77,
     "metadata": {},
     "output_type": "execute_result"
    }
   ],
   "source": [
    "sigma = sample_stdev/math.sqrt(sample_size)  # Standard deviation estimate\n",
    "\n",
    "stats.t.interval(alpha = 0.95,  # confidence interval\n",
    "                df = 24,  # degree of freedom\n",
    "                loc = sample_mean, # sample mean\n",
    "                scale = sigma) # standardd deviation estimate"
   ]
  },
  {
   "cell_type": "markdown",
   "id": "b4f94aea",
   "metadata": {},
   "source": [
    "We can also make a confidence interval for a point estimate of a population proportion. In this case, the margin of error equals:\n",
    "\n",
    "z * sqrt(p(p-1)/n)\n",
    " \n",
    "Where z is the z-critical value for our confidence level, p is the point estimate of the population proportion and n is the sample size"
   ]
  },
  {
   "cell_type": "markdown",
   "id": "bc8de9c3",
   "metadata": {},
   "source": [
    "### Conclusion:\n",
    "* Estimating population parameters through sampling is a simple, yet powerful form of inference. \n",
    "* Point estimates combined with error margins let us create confidence intervals that capture the true population parameter with high probability."
   ]
  },
  {
   "cell_type": "code",
   "execution_count": null,
   "id": "ff5b0112",
   "metadata": {},
   "outputs": [],
   "source": []
  }
 ],
 "metadata": {
  "kernelspec": {
   "display_name": "Python 3 (ipykernel)",
   "language": "python",
   "name": "python3"
  },
  "language_info": {
   "codemirror_mode": {
    "name": "ipython",
    "version": 3
   },
   "file_extension": ".py",
   "mimetype": "text/x-python",
   "name": "python",
   "nbconvert_exporter": "python",
   "pygments_lexer": "ipython3",
   "version": "3.10.4"
  }
 },
 "nbformat": 4,
 "nbformat_minor": 5
}
