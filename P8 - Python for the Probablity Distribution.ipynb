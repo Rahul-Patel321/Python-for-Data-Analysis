{
 "cells": [
  {
   "cell_type": "markdown",
   "id": "ae813bde",
   "metadata": {},
   "source": [
    "Many statistical tools and techniques used in data analysis are based on probability. Probability measures how likely it is for an event to occur on a scale from 0 (the event never occurs) to 1 (the event always occurs). When working with data, variables in the columns of the data set can be thought of as random variables: variables that vary due to chance. A probability distribution describes how a random variable is distributed; it tells us which values a random variable is most likely to take on and which values are less likely.\n",
    "\n",
    "In statistics, there are a range of precisely defined probability distributions that have different shapes and can be used to model different types of random events. In this, we'll discuss some common probability distributions and how to work with them in Python."
   ]
  },
  {
   "cell_type": "markdown",
   "id": "aab4ea59",
   "metadata": {},
   "source": [
    "**The Uniform Distribution**"
   ]
  },
  {
   "cell_type": "markdown",
   "id": "9521b007",
   "metadata": {},
   "source": [
    "The uniform distribution is a probability distribution where each value within a certain range is equally likely to occur and values outside of the range never occur. If we make a density plot of a uniform distribution, it appears flat because no value is any more likely (and hence has any more density) than another.\n",
    "\n",
    "Many useful functions for working with probability distributions in Python are contained in the scipy.stats library. Let's load in some libraries, generate some uniform data and plot a density curve:"
   ]
  },
  {
   "cell_type": "code",
   "execution_count": 2,
   "id": "ee343c9f",
   "metadata": {},
   "outputs": [],
   "source": [
    "import numpy as np\n",
    "import pandas as pd\n",
    "import matplotlib.pyplot as plt \n",
    "\n",
    "%matplotlib inline \n",
    "import scipy.stats as stats"
   ]
  },
  {
   "cell_type": "code",
   "execution_count": 5,
   "id": "e54dc266",
   "metadata": {},
   "outputs": [
    {
     "data": {
      "text/plain": [
       "array([4.21075848, 8.99297501, 8.88253653, ..., 3.74144429, 9.21299728,\n",
       "       1.31461587])"
      ]
     },
     "execution_count": 5,
     "metadata": {},
     "output_type": "execute_result"
    }
   ],
   "source": [
    "# generate 10000 numbmers form 0 to 10\n",
    "\n",
    "uniform_data = stats.uniform.rvs(size = 100000,\n",
    "                            loc = 0,\n",
    "                            scale = 10)\n",
    "uniform_data"
   ]
  },
  {
   "cell_type": "code",
   "execution_count": 6,
   "id": "e80a3e95",
   "metadata": {},
   "outputs": [],
   "source": [
    "# Convert the above data into the pandas dataframe \n",
    "\n",
    "uniform_data = pd.DataFrame(uniform_data)"
   ]
  },
  {
   "cell_type": "code",
   "execution_count": 7,
   "id": "a877b9dc",
   "metadata": {},
   "outputs": [
    {
     "data": {
      "text/html": [
       "<div>\n",
       "<style scoped>\n",
       "    .dataframe tbody tr th:only-of-type {\n",
       "        vertical-align: middle;\n",
       "    }\n",
       "\n",
       "    .dataframe tbody tr th {\n",
       "        vertical-align: top;\n",
       "    }\n",
       "\n",
       "    .dataframe thead th {\n",
       "        text-align: right;\n",
       "    }\n",
       "</style>\n",
       "<table border=\"1\" class=\"dataframe\">\n",
       "  <thead>\n",
       "    <tr style=\"text-align: right;\">\n",
       "      <th></th>\n",
       "      <th>0</th>\n",
       "    </tr>\n",
       "  </thead>\n",
       "  <tbody>\n",
       "    <tr>\n",
       "      <th>0</th>\n",
       "      <td>4.210758</td>\n",
       "    </tr>\n",
       "    <tr>\n",
       "      <th>1</th>\n",
       "      <td>8.992975</td>\n",
       "    </tr>\n",
       "    <tr>\n",
       "      <th>2</th>\n",
       "      <td>8.882537</td>\n",
       "    </tr>\n",
       "    <tr>\n",
       "      <th>3</th>\n",
       "      <td>9.782977</td>\n",
       "    </tr>\n",
       "    <tr>\n",
       "      <th>4</th>\n",
       "      <td>8.509536</td>\n",
       "    </tr>\n",
       "    <tr>\n",
       "      <th>...</th>\n",
       "      <td>...</td>\n",
       "    </tr>\n",
       "    <tr>\n",
       "      <th>99995</th>\n",
       "      <td>8.509563</td>\n",
       "    </tr>\n",
       "    <tr>\n",
       "      <th>99996</th>\n",
       "      <td>8.862618</td>\n",
       "    </tr>\n",
       "    <tr>\n",
       "      <th>99997</th>\n",
       "      <td>3.741444</td>\n",
       "    </tr>\n",
       "    <tr>\n",
       "      <th>99998</th>\n",
       "      <td>9.212997</td>\n",
       "    </tr>\n",
       "    <tr>\n",
       "      <th>99999</th>\n",
       "      <td>1.314616</td>\n",
       "    </tr>\n",
       "  </tbody>\n",
       "</table>\n",
       "<p>100000 rows × 1 columns</p>\n",
       "</div>"
      ],
      "text/plain": [
       "              0\n",
       "0      4.210758\n",
       "1      8.992975\n",
       "2      8.882537\n",
       "3      9.782977\n",
       "4      8.509536\n",
       "...         ...\n",
       "99995  8.509563\n",
       "99996  8.862618\n",
       "99997  3.741444\n",
       "99998  9.212997\n",
       "99999  1.314616\n",
       "\n",
       "[100000 rows x 1 columns]"
      ]
     },
     "execution_count": 7,
     "metadata": {},
     "output_type": "execute_result"
    }
   ],
   "source": [
    "uniform_data"
   ]
  },
  {
   "cell_type": "code",
   "execution_count": 9,
   "id": "b727862a",
   "metadata": {},
   "outputs": [
    {
     "data": {
      "text/plain": [
       "<AxesSubplot:ylabel='Density'>"
      ]
     },
     "execution_count": 9,
     "metadata": {},
     "output_type": "execute_result"
    },
    {
     "data": {
      "image/png": "[encoded data removed]",
      "text/plain": [
       "<Figure size 720x720 with 1 Axes>"
      ]
     },
     "metadata": {
      "needs_background": "light"
     },
     "output_type": "display_data"
    }
   ],
   "source": [
    "# Plot the data using the density plot \n",
    "\n",
    "uniform_data.plot(kind = 'density',\n",
    "                 figsize = (10,10),\n",
    "                 xlim = (-1,11))"
   ]
  },
  {
   "cell_type": "markdown",
   "id": "f0a8d5be",
   "metadata": {},
   "source": [
    "* In the code above, we generated 100,000 data points from a uniform distribution spanning the range 0 to 10. In the density plot, we see that the density of our uniform data is essentially level, meaning any given value has the same probability of occurring. The area under a probability density curve is always equal to 1."
   ]
  },
  {
   "cell_type": "markdown",
   "id": "04c3fc64",
   "metadata": {},
   "source": [
    "Probability distributions in scipy come with several useful functions for generating random data and extracting values of interest:\n",
    "\n",
    "* stats.distribution.rvs() generates random numbers from the specified distribution. The arguments to rvs() will vary depending on the type of distribution you're working with; in the case of the uniform distribution, we have to specify the starting and ending points and the size (number of random points to generate.).\n",
    "\n",
    "* stats.distribution.cdf() is used to determine the probability that an observation drawn from a distribution falls below a specified value (known as the cumulative distribution function). In essence, cdf() gives you the area under the distribution's density curve to the left of a certain value on the x axis. For example, in the uniform distribution above, there is a 25% chance that an observation will be in the range 0 to 2.5 and a 75% chance it will fall in the range 2.5 to 10. We can confirm this with cdf():"
   ]
  },
  {
   "cell_type": "code",
   "execution_count": 12,
   "id": "b90fd24b",
   "metadata": {},
   "outputs": [
    {
     "data": {
      "text/plain": [
       "0.25"
      ]
     },
     "execution_count": 12,
     "metadata": {},
     "output_type": "execute_result"
    }
   ],
   "source": [
    "# Cut off value to check  quantile\n",
    "\n",
    "stats.uniform.cdf(x = 2.5,\n",
    "                 loc = 0,\n",
    "                 scale = 10)"
   ]
  },
  {
   "cell_type": "markdown",
   "id": "07e43cd5",
   "metadata": {},
   "source": [
    "* stats.distribution.ppf() is the inverse of cdf(): it returns the x axis cutoff value (quantile) associated with a given probability. For instance, if we want to know the cutoff value for which we have a 40% chance of drawing an observation below that value, we can use ppf():"
   ]
  },
  {
   "cell_type": "code",
   "execution_count": 14,
   "id": "7a3589a6",
   "metadata": {},
   "outputs": [
    {
     "data": {
      "text/plain": [
       "4.0"
      ]
     },
     "execution_count": 14,
     "metadata": {},
     "output_type": "execute_result"
    }
   ],
   "source": [
    "stats.uniform.ppf(q = 0.4,\n",
    "                 loc = 0,\n",
    "                 scale = 10)"
   ]
  },
  {
   "cell_type": "markdown",
   "id": "09de21b0",
   "metadata": {},
   "source": [
    "* stats.distribution.pdf() gives us the probability density (height of the distribution) at a given x value. Since the uniform distribution is flat, all x values within its range will have the same probability density and x values outside the range have a probability density of 0:"
   ]
  },
  {
   "cell_type": "code",
   "execution_count": 16,
   "id": "43c61b12",
   "metadata": {},
   "outputs": [
    {
     "name": "stdout",
     "output_type": "stream",
     "text": [
      "Density at x value -1\n",
      "0.0\n",
      "Density at x value 2\n",
      "0.1\n",
      "Density at x value 5\n",
      "0.1\n",
      "Density at x value 8\n",
      "0.1\n",
      "Density at x value 11\n",
      "0.0\n"
     ]
    }
   ],
   "source": [
    "for x in range(-1,12,3):\n",
    "    print(\"Density at x value \" + str(x))\n",
    "    print( stats.uniform.pdf(x, loc=0, scale=10) )"
   ]
  },
  {
   "cell_type": "markdown",
   "id": "9c4e519f",
   "metadata": {},
   "source": [
    "Probability distribution functions in scipy also support median(), mean(), var() and std()."
   ]
  },
  {
   "cell_type": "markdown",
   "id": "03405919",
   "metadata": {},
   "source": [
    "**Generating Random Numbers and Setting The Seed**"
   ]
  },
  {
   "cell_type": "markdown",
   "id": "7d565871",
   "metadata": {},
   "source": [
    "When we need to generate random real numbers in a range with equal probability we can draw numbers from a uniform distribution using stats.distribution.rvs(). Python also comes with a library called \"random\" that lets you perform various operations that involve randomization. Let's look at a few functions in the random library:"
   ]
  },
  {
   "cell_type": "code",
   "execution_count": 19,
   "id": "326b1278",
   "metadata": {},
   "outputs": [
    {
     "data": {
      "text/plain": [
       "1"
      ]
     },
     "execution_count": 19,
     "metadata": {},
     "output_type": "execute_result"
    }
   ],
   "source": [
    "import random\n",
    "\n",
    "random.randint(0,10)"
   ]
  },
  {
   "cell_type": "code",
   "execution_count": 23,
   "id": "c95c8a5e",
   "metadata": {},
   "outputs": [
    {
     "data": {
      "text/plain": [
       "2"
      ]
     },
     "execution_count": 23,
     "metadata": {},
     "output_type": "execute_result"
    }
   ],
   "source": [
    "random.choice([2,3,5,6,8,9,11])"
   ]
  },
  {
   "cell_type": "code",
   "execution_count": 24,
   "id": "4b40d9d8",
   "metadata": {},
   "outputs": [
    {
     "data": {
      "text/plain": [
       "0.6112977471594665"
      ]
     },
     "execution_count": 24,
     "metadata": {},
     "output_type": "execute_result"
    }
   ],
   "source": [
    "random.random() # get a real number between 0 and 1"
   ]
  },
  {
   "cell_type": "code",
   "execution_count": 26,
   "id": "58d0bd91",
   "metadata": {},
   "outputs": [
    {
     "data": {
      "text/plain": [
       "2.521685513504306"
      ]
     },
     "execution_count": 26,
     "metadata": {},
     "output_type": "execute_result"
    }
   ],
   "source": [
    "random.uniform(0,10) #get a real number between the specified range "
   ]
  },
  {
   "cell_type": "markdown",
   "id": "d5ca22a5",
   "metadata": {},
   "source": [
    "Notice that the random library also lets us generate random uniform numbers. Regardless of the method we use to generate random numbers, however, the result of a random process can differ from one run to the next. Having results vary each time you run a function is often not desirable. For example, if we want a colleague to be able to reproduce our results exactly, we can run into problems when we use randomization. we can ensure that our results are the same each time we use a function that involves randomness by setting the random number generator's seed value to initialize it prior to running the function. Set the random seed with random.seed():"
   ]
  },
  {
   "cell_type": "code",
   "execution_count": 30,
   "id": "a0aa906d",
   "metadata": {},
   "outputs": [
    {
     "name": "stdout",
     "output_type": "stream",
     "text": [
      "[4.7457067868854805, 6.574725026572553, 6.664104711248381, 1.4260035292536777]\n",
      "[4.7457067868854805, 6.574725026572553, 6.664104711248381, 1.4260035292536777]\n"
     ]
    }
   ],
   "source": [
    "random.seed(12) # set the seed to a arbitrary value \n",
    "\n",
    "print([random.uniform(0,10) for i in range(4)])\n",
    "\n",
    "random.seed(12) # set the seed to the same value \n",
    "\n",
    "print([random.uniform(0,10) for i in range(4)])"
   ]
  },
  {
   "cell_type": "markdown",
   "id": "25f2094a",
   "metadata": {},
   "source": [
    "Notice that we generated the exact same numbers with both calls to random.uniform() because we set the same seed before each call. If we had not set the seed, we would have gotten different numbers. This reproducibility illustrates the fact that these random numbers aren't truly random, but rather \"pseudorandom\"."
   ]
  },
  {
   "cell_type": "markdown",
   "id": "0f552586",
   "metadata": {},
   "source": [
    "Many functions in Python's libraries that use randomness have an optional random seed argument built in so that you don't have to set the seed outside of the function. For instance, the rvs() function has an optional argument random_state, that lets you set the seed."
   ]
  },
  {
   "cell_type": "markdown",
   "id": "84497458",
   "metadata": {},
   "source": [
    "**The Normal Distribution**"
   ]
  },
  {
   "cell_type": "markdown",
   "id": "178ff23f",
   "metadata": {},
   "source": [
    "* The normal or Gaussian distribution is a continuous probability distribution characterized by a symmetric bell-shaped curve. A normal distribution is defined by its center (mean) and spread (standard deviation.). The bulk of the observations generated from a normal distribution lie near the mean, which lies at the exact center of the distribution: \n",
    "* as a rule of thumb, about 68% of the data lies within 1 standard deviation of the mean, 95% lies within 2 standard deviations and 99.7% lies within 3 standard deviations."
   ]
  },
  {
   "cell_type": "markdown",
   "id": "52f99ddb",
   "metadata": {},
   "source": [
    "The scipy nickname for the normal distribution is norm. Let's investigate the normal distribution:"
   ]
  },
  {
   "cell_type": "code",
   "execution_count": 48,
   "id": "4913a56b",
   "metadata": {},
   "outputs": [
    {
     "name": "stdout",
     "output_type": "stream",
     "text": [
      "0.15865525393145707\n",
      "0.6826894921370859\n",
      "0.15865525393145707\n"
     ]
    }
   ],
   "source": [
    "prob_under_minus1 = stats.norm.cdf(x = -1,\n",
    "                                  loc = 0,\n",
    "                                  scale = 1)\n",
    "\n",
    "prob_under_1 = stats.norm.cdf(x = 1,\n",
    "                             loc = 0,\n",
    "                             scale = 1)\n",
    "\n",
    "prob_over_1 = 1 - prob_under_1\n",
    "\n",
    "prob_bw_mminus1_and_1 = 1-(prob_under_minus1 + prob_over_1)\n",
    "\n",
    "print(prob_under_minus1)\n",
    "\n",
    "print(prob_bw_mminus1_and_1)\n",
    "print(prob_over_1)"
   ]
  },
  {
   "cell_type": "markdown",
   "id": "3e3e9b4e",
   "metadata": {},
   "source": [
    "* The output shows that roughly 16% of the data generated by a normal distribution with mean 0 and standard deviation 1 is below -1, 16% is above 1 and 68% lies between -1 and 1, which agrees with the 68, 95, 99.7 rule. Let's plot the normal distribution and inspect areas we calculated:"
   ]
  },
  {
   "cell_type": "code",
   "execution_count": 54,
   "id": "47614dc4",
   "metadata": {},
   "outputs": [
    {
     "data": {
      "text/plain": [
       "Text(1.3, 0.05, '0.16')"
      ]
     },
     "execution_count": 54,
     "metadata": {},
     "output_type": "execute_result"
    },
    {
     "data": {
      "image/png": "[encoded data removed]",
      "text/plain": [
       "<Figure size 432x288 with 1 Axes>"
      ]
     },
     "metadata": {
      "needs_background": "light"
     },
     "output_type": "display_data"
    }
   ],
   "source": [
    "# PLot the normal distribution area  \n",
    "\n",
    "x1 = np.arange(-4,-1,0.01)\n",
    "y1 = stats.norm.pdf(x1)\n",
    "\n",
    "x2 = np.arange(-1,1,0.01)\n",
    "y2 = stats.norm.pdf(x2)\n",
    "\n",
    "x3 = np.arange(1,4,0.01)\n",
    "y3 = stats.norm.pdf(x3)\n",
    "\n",
    "plt.fill_between(x1,y1)\n",
    "plt.fill_between(x2,y2)\n",
    "plt.fill_between(x3,y3)\n",
    "\n",
    "plt.text(x=-1.8,y = 0.05,\n",
    "        s = round(prob_under_minus1,2))\n",
    "plt.text(x=0,y = 0.05,\n",
    "        s = round(prob_bw_mminus1_and_1,2))\n",
    "plt.text(x= 1.3,y = 0.05,\n",
    "        s = round(prob_over_1,2))"
   ]
  },
  {
   "cell_type": "markdown",
   "id": "d347c6b1",
   "metadata": {},
   "source": [
    ". Finding quantiles of the normal distribution is a common task when performing statistical tests. we can check normal distribution quantiles with stats.norm.ppf():"
   ]
  },
  {
   "cell_type": "code",
   "execution_count": 55,
   "id": "35f66f70",
   "metadata": {},
   "outputs": [
    {
     "data": {
      "text/plain": [
       "-1.9599639845400545"
      ]
     },
     "execution_count": 55,
     "metadata": {},
     "output_type": "execute_result"
    }
   ],
   "source": [
    "stats.norm.ppf(q = 0.025) # finding the quantile for the 2.5% cutoff "
   ]
  },
  {
   "cell_type": "code",
   "execution_count": 57,
   "id": "c967d172",
   "metadata": {},
   "outputs": [
    {
     "data": {
      "text/plain": [
       "1.959963984540054"
      ]
     },
     "execution_count": 57,
     "metadata": {},
     "output_type": "execute_result"
    }
   ],
   "source": [
    "stats.norm.ppf(q = 0.975) # finding the quantile for the 97.5% cutoff"
   ]
  },
  {
   "cell_type": "markdown",
   "id": "209b1d34",
   "metadata": {},
   "source": [
    "* Note: a mean of 0 and standard deviation of 1 are default values for the normal distribution."
   ]
  },
  {
   "cell_type": "markdown",
   "id": "de65dd4d",
   "metadata": {},
   "source": [
    "**The Binomial Distribution**"
   ]
  },
  {
   "cell_type": "markdown",
   "id": "dfc1bcdf",
   "metadata": {},
   "source": [
    "The binomial distribution is a discrete probability distribution that models the outcomes of a given number of random trails of some experiment or event. The binomial is defined by two parameters: the probability of success in any given trial and the number of trials. The binomial distribution tells you how likely it is to achieve a given number of successes in n trials of the experiment. For example, we could model flipping a fair coin 10 times with a binomial distribution where the number of trials is set to 10 and the probability of success is set to 0.5. In this case the distribution would tell us how likely it is to get zero heads, 1 head, 2 heads and so on.\n",
    "\n",
    "The scipy name for the binomial is binom. Let's generate and investigate some binomial data:"
   ]
  },
  {
   "cell_type": "code",
   "execution_count": 58,
   "id": "aed20393",
   "metadata": {},
   "outputs": [],
   "source": [
    "fair_coin_flips = stats.binom.rvs(n=10,        # Number of flips per trial\n",
    "                                  p=0.5,       # Success probability\n",
    "                                  size=10000)  # Number of trials"
   ]
  },
  {
   "cell_type": "code",
   "execution_count": 66,
   "id": "9bff8997",
   "metadata": {},
   "outputs": [
    {
     "name": "stdout",
     "output_type": "stream",
     "text": [
      "col_0   0    1    2     3     4     5     6     7    8   9   10\n",
      "row_0                                                          \n",
      "counts   7  104  445  1212  2046  2456  2042  1153  430  96   9\n"
     ]
    },
    {
     "data": {
      "image/png": "[encoded data removed]",
      "text/plain": [
       "<Figure size 432x288 with 1 Axes>"
      ]
     },
     "metadata": {
      "needs_background": "light"
     },
     "output_type": "display_data"
    }
   ],
   "source": [
    "df= pd.crosstab(index = 'counts',\n",
    "           columns = fair_coin_flips)\n",
    "\n",
    "# convert it into the pandas dataframe \n",
    "print( pd.crosstab(index=\"counts\", columns= fair_coin_flips))\n",
    "\n",
    "pd.DataFrame(fair_coin_flips).hist(range=(-0.5,10.5), bins=11);"
   ]
  },
  {
   "cell_type": "markdown",
   "id": "692d5f53",
   "metadata": {},
   "source": [
    "Note that since the binomial distribution is discrete, it only takes on integer values so we can summarize binomial data with a frequency table and its distribution with a histogram. The histogram shows us that a binomial distribution with a 50% probability of success is roughly symmetric, with the most likely outcomes lying at the center. This is reminiscent of the normal distribution, but if we alter the success probability, the distribution won't be symmetric:"
   ]
  },
  {
   "cell_type": "code",
   "execution_count": 67,
   "id": "086883f0",
   "metadata": {},
   "outputs": [
    {
     "name": "stdout",
     "output_type": "stream",
     "text": [
      "col_0   2   3   4    5    6     7     8     9     10\n",
      "row_0                                               \n",
      "counts   1   4  61  279  841  2018  3027  2643  1126\n"
     ]
    },
    {
     "data": {
      "image/png": "[encoded data removed]",
      "text/plain": [
       "<Figure size 432x288 with 1 Axes>"
      ]
     },
     "metadata": {
      "needs_background": "light"
     },
     "output_type": "display_data"
    }
   ],
   "source": [
    "biased_coin_flips = stats.binom.rvs(n=10,      # Number of flips per trial\n",
    "                                  p=0.8,       # Success probability\n",
    "                                  size=10000)  # Number of trials\n",
    "\n",
    "# Print table of counts\n",
    "print( pd.crosstab(index=\"counts\", columns= biased_coin_flips))\n",
    "\n",
    "# Plot histogram\n",
    "pd.DataFrame(biased_coin_flips).hist(range=(-0.5,10.5), bins=11);"
   ]
  },
  {
   "cell_type": "markdown",
   "id": "d95af357",
   "metadata": {},
   "source": [
    "The cdf() function lets us check the probability of achieving a number of successes within a certain range:"
   ]
  },
  {
   "cell_type": "code",
   "execution_count": 69,
   "id": "0a2eef67",
   "metadata": {},
   "outputs": [
    {
     "data": {
      "text/plain": [
       "0.03279349759999997"
      ]
     },
     "execution_count": 69,
     "metadata": {},
     "output_type": "execute_result"
    }
   ],
   "source": [
    "stats.binom.cdf(k = 5,  # Probablity of k=5 or less\n",
    "               n = 10,  # with 10 flips\n",
    "               p = 0.8)  # success probablity is 0.8"
   ]
  },
  {
   "cell_type": "markdown",
   "id": "1a0561bd",
   "metadata": {},
   "source": [
    "For continuous probability density functions, we use pdf() to check the probability density at a given x value. For discrete distributions like the binomial, use stats.distribution.pmf() (probability mass function) to check the mass (proportion of observations) at given number of successes k:"
   ]
  },
  {
   "cell_type": "code",
   "execution_count": 70,
   "id": "1331ca05",
   "metadata": {},
   "outputs": [
    {
     "data": {
      "text/plain": [
       "0.30198988799999993"
      ]
     },
     "execution_count": 70,
     "metadata": {},
     "output_type": "execute_result"
    }
   ],
   "source": [
    "stats.binom.pmf(k = 8, # probablity of k=8\n",
    "               n = 10, # with 10 flips \n",
    "               p = 0.8) #success probablity is 0.8"
   ]
  },
  {
   "cell_type": "markdown",
   "id": "9fbf3c10",
   "metadata": {},
   "source": [
    "**The Poisson Distribution**"
   ]
  },
  {
   "cell_type": "markdown",
   "id": "31b177a9",
   "metadata": {},
   "source": [
    "The Poisson distribution models the probability of seeing a certain number of successes within a time interval, where the time it takes for the next success is modeled by an exponential distribution. The Poisson distribution can be used to model traffic, such as the number of arrivals a hospital can expect in a hour's time or the number of emails you'd expect to receive in a week.\n",
    "\n",
    "The scipy name for the Poisson distribution is \"poisson\". Let's generate and plot some data from a Poisson distribution with an arrival rate of 1 per time unit:"
   ]
  },
  {
   "cell_type": "code",
   "execution_count": 72,
   "id": "c971a8a1",
   "metadata": {},
   "outputs": [],
   "source": [
    "random.seed(12)\n",
    "\n",
    "arrival_rate_1 = stats.poisson.rvs(size = 10000, # generate poisson data\n",
    "                                  mu = 1 )# average arrival rate is 1"
   ]
  },
  {
   "cell_type": "code",
   "execution_count": 78,
   "id": "5e0f426c",
   "metadata": {},
   "outputs": [
    {
     "data": {
      "text/html": [
       "<div>\n",
       "<style scoped>\n",
       "    .dataframe tbody tr th:only-of-type {\n",
       "        vertical-align: middle;\n",
       "    }\n",
       "\n",
       "    .dataframe tbody tr th {\n",
       "        vertical-align: top;\n",
       "    }\n",
       "\n",
       "    .dataframe thead th {\n",
       "        text-align: right;\n",
       "    }\n",
       "</style>\n",
       "<table border=\"1\" class=\"dataframe\">\n",
       "  <thead>\n",
       "    <tr style=\"text-align: right;\">\n",
       "      <th>col_0</th>\n",
       "      <th>0</th>\n",
       "      <th>1</th>\n",
       "      <th>2</th>\n",
       "      <th>3</th>\n",
       "      <th>4</th>\n",
       "      <th>5</th>\n",
       "      <th>6</th>\n",
       "      <th>7</th>\n",
       "    </tr>\n",
       "    <tr>\n",
       "      <th>row_0</th>\n",
       "      <th></th>\n",
       "      <th></th>\n",
       "      <th></th>\n",
       "      <th></th>\n",
       "      <th></th>\n",
       "      <th></th>\n",
       "      <th></th>\n",
       "      <th></th>\n",
       "    </tr>\n",
       "  </thead>\n",
       "  <tbody>\n",
       "    <tr>\n",
       "      <th>counts</th>\n",
       "      <td>3653</td>\n",
       "      <td>3709</td>\n",
       "      <td>1850</td>\n",
       "      <td>614</td>\n",
       "      <td>138</td>\n",
       "      <td>28</td>\n",
       "      <td>7</td>\n",
       "      <td>1</td>\n",
       "    </tr>\n",
       "  </tbody>\n",
       "</table>\n",
       "</div>"
      ],
      "text/plain": [
       "col_0      0     1     2    3    4   5  6  7\n",
       "row_0                                       \n",
       "counts  3653  3709  1850  614  138  28  7  1"
      ]
     },
     "execution_count": 78,
     "metadata": {},
     "output_type": "execute_result"
    }
   ],
   "source": [
    "pd.crosstab(index = 'counts',\n",
    "            columns = arrival_rate_1)"
   ]
  },
  {
   "cell_type": "code",
   "execution_count": 81,
   "id": "88202cae",
   "metadata": {},
   "outputs": [
    {
     "data": {
      "text/plain": [
       "array([[<AxesSubplot:title={'center':'0'}>]], dtype=object)"
      ]
     },
     "execution_count": 81,
     "metadata": {},
     "output_type": "execute_result"
    },
    {
     "data": {
      "image/png": "[encoded data removed]",
      "text/plain": [
       "<Figure size 432x288 with 1 Axes>"
      ]
     },
     "metadata": {
      "needs_background": "light"
     },
     "output_type": "display_data"
    }
   ],
   "source": [
    "df = pd.DataFrame(arrival_rate_1)\n",
    "df.hist(range = (-0.5,max(arrival_rate_1)+0.5),\n",
    "       bins = max(arrival_rate_1)+1)"
   ]
  },
  {
   "cell_type": "markdown",
   "id": "ca61bf9a",
   "metadata": {},
   "source": [
    "* The histogram shows that when arrivals are relatively infrequent, it is rare to see more than a couple of arrivals in each time period. When the arrival rate is high, it becomes increasingly rare to see a low number of arrivals and the distribution starts to look more symmetric:"
   ]
  },
  {
   "cell_type": "markdown",
   "id": "21e0a35b",
   "metadata": {},
   "source": [
    "As with other discrete probability distributions, we can use cdf() to check the probability of achieving more or less than a certain number of successes and pmf() to check the probability of obtaining a specific number of successes:"
   ]
  },
  {
   "cell_type": "code",
   "execution_count": 82,
   "id": "d64ad369",
   "metadata": {},
   "outputs": [
    {
     "data": {
      "text/plain": [
       "0.06708596287903189"
      ]
     },
     "execution_count": 82,
     "metadata": {},
     "output_type": "execute_result"
    }
   ],
   "source": [
    "# Check the probablity of 5 arrivals or less with arrival rate 10\n",
    "\n",
    "stats.poisson.cdf(k = 5,\n",
    "                 mu = 10)"
   ]
  },
  {
   "cell_type": "code",
   "execution_count": 83,
   "id": "7141c1a8",
   "metadata": {},
   "outputs": [
    {
     "data": {
      "text/plain": [
       "0.12511003572113372"
      ]
     },
     "execution_count": 83,
     "metadata": {},
     "output_type": "execute_result"
    }
   ],
   "source": [
    "# Check the probablity of exactly 10 arrivals with the arrival rate 10\n",
    "\n",
    "stats.poisson.pmf(k = 10,\n",
    "                 mu = 10)"
   ]
  },
  {
   "cell_type": "markdown",
   "id": "81ded938",
   "metadata": {},
   "source": [
    "* Probability distribution functions are useful for generating random data, modeling random events and aiding with statistical tests and analysis."
   ]
  },
  {
   "cell_type": "code",
   "execution_count": null,
   "id": "b4c450dc",
   "metadata": {},
   "outputs": [],
   "source": []
  }
 ],
 "metadata": {
  "kernelspec": {
   "display_name": "Python 3 (ipykernel)",
   "language": "python",
   "name": "python3"
  },
  "language_info": {
   "codemirror_mode": {
    "name": "ipython",
    "version": 3
   },
   "file_extension": ".py",
   "mimetype": "text/x-python",
   "name": "python",
   "nbconvert_exporter": "python",
   "pygments_lexer": "ipython3",
   "version": "3.10.4"
  }
 },
 "nbformat": 4,
 "nbformat_minor": 5
}
